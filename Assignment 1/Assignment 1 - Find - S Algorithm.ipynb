{
 "cells": [
  {
   "cell_type": "code",
   "execution_count": 1,
   "id": "4ffa45c9",
   "metadata": {},
   "outputs": [],
   "source": [
    "#importing required libraries\n",
    "import random\n",
    "import csv"
   ]
  },
  {
   "cell_type": "code",
   "execution_count": 3,
   "id": "93452a4a",
   "metadata": {},
   "outputs": [
    {
     "name": "stdout",
     "output_type": "stream",
     "text": [
      "The most general hypothesis : ['?','?','?','?','?','?']\n",
      "\n",
      "The most specific hypothesis : ['0','0','0','0','0','0']\n",
      "\n",
      "Dataset -> \n",
      "\n",
      "['Sunny', 'Warm', 'Normal', 'Strong', 'Warm', 'Same', 'Yes']\n",
      "['Sunny', 'Warm', 'High', 'Strong', 'Warm', 'Same', 'Yes']\n",
      "['Rainy', 'Cold', 'High', 'Strong', 'Warm', 'Change', 'No']\n",
      "['Sunny', 'Warm', 'High', 'Strong', 'Cool', 'Change', 'Yes']\n",
      "\n",
      " The initial value of hypothesis: \n",
      "['0', '0', '0', '0', '0', '0']\n"
     ]
    }
   ],
   "source": [
    "att = [['Sunny','Rainy'],['Warm','Cold'],['Normal','High'],['Strong','Weak'],['Warm','Cool'],['Same','Change']]\n",
    "num = len(att)\n",
    "\n",
    "print (\"The most general hypothesis -> ['?','?','?','?','?','?']\\n\")\n",
    "print (\"The most specific hypothesis -> ['0','0','0','0','0','0']\\n\")\n",
    "\n",
    "data = []\n",
    "print(\"Dataset -> \\n\")\n",
    "with open('dataset.csv', 'r') as file:\n",
    "    reader = csv.reader(file)\n",
    "    for r in reader:\n",
    "        data.append (r)\n",
    "        print(r)\n",
    "\n",
    "\n",
    "print(\"\\nThe initial hypothesis -> \")\n",
    "hypo = ['0'] * num\n",
    "print(hypo)"
   ]
  },
  {
   "cell_type": "code",
   "execution_count": 4,
   "id": "257198d0",
   "metadata": {},
   "outputs": [],
   "source": [
    "# Comparing with First Training Example \n",
    "for j in range(0,num):\n",
    "        hypo[j] = data[0][j];"
   ]
  },
  {
   "cell_type": "code",
   "execution_count": 7,
   "id": "6986fbec",
   "metadata": {},
   "outputs": [
    {
     "name": "stdout",
     "output_type": "stream",
     "text": [
      "\n",
      " Find S: Finding a Maximally Specific Hypothesis\n",
      "\n",
      " For Training Example No :0 the hypothesis is  ['Sunny', 'Warm', '?', 'Strong', '?', '?']\n",
      " For Training Example No :1 the hypothesis is  ['Sunny', 'Warm', '?', 'Strong', '?', '?']\n",
      " For Training Example No :2 the hypothesis is  ['Sunny', 'Warm', '?', 'Strong', '?', '?']\n",
      " For Training Example No :3 the hypothesis is  ['Sunny', 'Warm', '?', 'Strong', '?', '?']\n",
      "\n",
      " The Maximally Specific Hypothesis for a given Training Examples :\n",
      "\n",
      "['Sunny', 'Warm', '?', 'Strong', '?', '?']\n"
     ]
    }
   ],
   "source": [
    "# Comparing with Remaining Training Examples of Given Data Set\n",
    "print(\"\\n Find S: Finding a Maximally Specific Hypothesis\\n\")\n",
    "\n",
    "for i in range(0,len(data)):\n",
    "    if data[i][num]=='Yes':\n",
    "            for j in range(0,num):\n",
    "                if data[i][j]!=hypo[j]:\n",
    "                    hypo[j]='?'\n",
    "                else :\n",
    "                    hypo[j]= data[i][j] \n",
    "    print(\" For Training Example No :{0} the hypothesis is \".format(i),hypo)\n",
    "                \n",
    "print(\"\\n The Maximally Specific Hypothesis for a given Training Examples :\\n\")\n",
    "print(hypo)"
   ]
  }
 ],
 "metadata": {
  "kernelspec": {
   "display_name": "Python 3",
   "language": "python",
   "name": "python3"
  },
  "language_info": {
   "codemirror_mode": {
    "name": "ipython",
    "version": 3
   },
   "file_extension": ".py",
   "mimetype": "text/x-python",
   "name": "python",
   "nbconvert_exporter": "python",
   "pygments_lexer": "ipython3",
   "version": "3.9.5"
  }
 },
 "nbformat": 4,
 "nbformat_minor": 5
}
