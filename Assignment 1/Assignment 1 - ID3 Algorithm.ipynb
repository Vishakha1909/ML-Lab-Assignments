{
 "cells": [
  {
   "cell_type": "code",
   "execution_count": 10,
   "id": "2655b95c",
   "metadata": {},
   "outputs": [],
   "source": [
    "#importing required libraries\n",
    "import pandas as pd\n",
    "import math\n",
    "import numpy as np"
   ]
  },
  {
   "cell_type": "code",
   "execution_count": 11,
   "id": "9534991b",
   "metadata": {},
   "outputs": [],
   "source": [
    "#getting the required data\n",
    "data = pd.read_csv(\"dataset3.csv\")\n",
    "features = [f for f in data]\n",
    "features.remove(\"answer\")"
   ]
  },
  {
   "cell_type": "code",
   "execution_count": 12,
   "id": "ca0c7327",
   "metadata": {},
   "outputs": [],
   "source": [
    "#defining the class for a tree structure\n",
    "class Node:\n",
    "    def __init__(self):\n",
    "        self.children = []\n",
    "        self.value = \"\"\n",
    "        self.isLeaf = False\n",
    "        self.pred = \"\""
   ]
  },
  {
   "cell_type": "code",
   "execution_count": 13,
   "id": "18594adf",
   "metadata": {},
   "outputs": [],
   "source": [
    "#function to implement the ID3 algorithm\n",
    "def ID3(examples, attrs):\n",
    "    root = Node()\n",
    "    max_gain = 0\n",
    "    max_feat = \"\"\n",
    "    for feature in attrs:\n",
    "        gain = info_gain(examples, feature)\n",
    "        if gain > max_gain:\n",
    "            max_gain = gain\n",
    "            max_feat = feature\n",
    "    root.value = max_feat\n",
    "    uniq = np.unique(examples[max_feat])\n",
    "    for u in uniq:\n",
    "        subdata = examples[examples[max_feat] == u]\n",
    "        if entropy(subdata) == 0.0:\n",
    "            newNode = Node()\n",
    "            newNode.isLeaf = True\n",
    "            newNode.value = u\n",
    "            newNode.pred = np.unique(subdata[\"answer\"])\n",
    "            root.children.append(newNode)\n",
    "        else:\n",
    "            dummyNode = Node()\n",
    "            dummyNode.value = u\n",
    "            new_attrs = attrs.copy()\n",
    "            new_attrs.remove(max_feat)\n",
    "            child = ID3(subdata, new_attrs)\n",
    "            dummyNode.children.append(child)\n",
    "            root.children.append(dummyNode)\n",
    "    return root"
   ]
  },
  {
   "cell_type": "code",
   "execution_count": 14,
   "id": "15dd0de5",
   "metadata": {},
   "outputs": [],
   "source": [
    "#function to calculate information gain\n",
    "def info_gain(examples, attr):\n",
    "    uniq = np.unique(examples[attr])\n",
    "    gain = entropy(examples)\n",
    "    for u in uniq:\n",
    "        subdata = examples[examples[attr] == u]\n",
    "        sub = entropy(subdata)\n",
    "        gain -= (float(len(subdata)) / float(len(examples))) * sub\n",
    "    return gain"
   ]
  },
  {
   "cell_type": "code",
   "execution_count": 15,
   "id": "aac0954d",
   "metadata": {},
   "outputs": [],
   "source": [
    "#function to calculate entropy\n",
    "def entropy(examples):\n",
    "    pos = 0.0\n",
    "    neg = 0.0\n",
    "    for _, row in examples.iterrows():\n",
    "        if row[\"answer\"] == \"yes\":\n",
    "            pos += 1\n",
    "        else:\n",
    "            neg += 1\n",
    "    if pos == 0.0 or neg == 0.0:\n",
    "        return 0.0\n",
    "    else:\n",
    "        p = pos / (pos + neg)\n",
    "        n = neg / (pos + neg)\n",
    "        return -(p * math.log(p, 2) + n * math.log(n, 2))"
   ]
  },
  {
   "cell_type": "code",
   "execution_count": 16,
   "id": "6e303a37",
   "metadata": {},
   "outputs": [],
   "source": [
    "#function to print the final decision tree\n",
    "def printTree(root: Node, depth=0):\n",
    "    for i in range(depth):\n",
    "        print(\"\\t\", end=\"\")\n",
    "    print(root.value, end=\"\")\n",
    "    if root.isLeaf:\n",
    "        print(\" -> \", root.pred)\n",
    "    print()\n",
    "    for child in root.children:\n",
    "        printTree(child, depth + 1)"
   ]
  },
  {
   "cell_type": "code",
   "execution_count": 17,
   "id": "995310be",
   "metadata": {},
   "outputs": [
    {
     "name": "stdout",
     "output_type": "stream",
     "text": [
      "outlook\n",
      "\tovercast ->  ['yes']\n",
      "\n",
      "\train\n",
      "\t\twind\n",
      "\t\t\tstrong ->  ['no']\n",
      "\n",
      "\t\t\tweak ->  ['yes']\n",
      "\n",
      "\tsunny\n",
      "\t\thumidity\n",
      "\t\t\thigh ->  ['no']\n",
      "\n",
      "\t\t\tnormal ->  ['yes']\n",
      "\n"
     ]
    }
   ],
   "source": [
    "root = ID3(data, features)\n",
    "printTree(root)"
   ]
  },
  {
   "cell_type": "code",
   "execution_count": null,
   "id": "843e4275",
   "metadata": {},
   "outputs": [],
   "source": []
  }
 ],
 "metadata": {
  "kernelspec": {
   "display_name": "Python 3",
   "language": "python",
   "name": "python3"
  },
  "language_info": {
   "codemirror_mode": {
    "name": "ipython",
    "version": 3
   },
   "file_extension": ".py",
   "mimetype": "text/x-python",
   "name": "python",
   "nbconvert_exporter": "python",
   "pygments_lexer": "ipython3",
   "version": "3.9.5"
  }
 },
 "nbformat": 4,
 "nbformat_minor": 5
}
